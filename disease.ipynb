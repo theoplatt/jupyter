{
 "cells": [
  {
   "cell_type": "code",
   "execution_count": null,
   "metadata": {
    "collapsed": true
   },
   "outputs": [],
   "source": [
    "import requests\n",
    "import json\n",
    "import pandas as pd\n",
    "import seaborn as sns; "
   ]
  },
  {
   "cell_type": "markdown",
   "metadata": {},
   "source": [
    "### Set our list of targets, the disease to run against and number of top associations to filter through"
   ]
  },
  {
   "cell_type": "code",
   "execution_count": null,
   "metadata": {
    "collapsed": false
   },
   "outputs": [],
   "source": [
    "mytargets = ['DRD2', 'DRD4', 'PINK1', 'GRIN1', 'FUS', 'ANG', 'FRED', 'BERT']\n",
    "disease = \"EFO_0002508\"     # Parkinson's\n",
    "#disease = \"EFO_0000253\"     # ALS\n",
    "maxresults = 100             # max 10,000"
   ]
  },
  {
   "cell_type": "markdown",
   "metadata": {},
   "source": [
    "### Make the API call with our disease to find the top results (ordered by overall score descending)"
   ]
  },
  {
   "cell_type": "code",
   "execution_count": null,
   "metadata": {
    "collapsed": true
   },
   "outputs": [],
   "source": [
    "url = 'https://www.targetvalidation.org/api/latest/public/association/filter'\n",
    "headers = {\"Accept\": \"application/json\"}\n",
    "data = \"{\\\"disease\\\":[\\\"\" + disease + \"\\\"], \\\"size\\\":\" + str(maxresults) + \"}\"\n",
    "\n",
    "response = requests.post(url, headers=headers, data=data)\n",
    "output = response.json()"
   ]
  },
  {
   "cell_type": "markdown",
   "metadata": {},
   "source": [
    "### Lets see what we got back"
   ]
  },
  {
   "cell_type": "code",
   "execution_count": null,
   "metadata": {
    "collapsed": false
   },
   "outputs": [],
   "source": [
    "print json.dumps(output, indent=2)"
   ]
  },
  {
   "cell_type": "markdown",
   "metadata": {},
   "source": [
    "### Run through all the targets and identify those we're interested in, adding them to a Pandas DataFrame"
   ]
  },
  {
   "cell_type": "code",
   "execution_count": null,
   "metadata": {
    "collapsed": true
   },
   "outputs": [],
   "source": [
    "df = pd.DataFrame()\n",
    "\n",
    "for target in output['data']:\n",
    "    \n",
    "    # If the target is in our list then add it to the DataFrame\n",
    "    if target['target']['gene_info']['symbol'] in mytargets:\n",
    "\n",
    "        # Add all the association scores in one hit\n",
    "        s = pd.Series(target['association_score']['datatypes'])\n",
    "        # Append the overall score\n",
    "        s['overall'] = target['association_score']['overall']\n",
    "        # Use the target as the series name\n",
    "        s.name = str(target['target']['gene_info']['symbol'])\n",
    "        # Append the series to our DataFrame\n",
    "        df = df.append(s, ignore_index=False)\n",
    "\n",
    "        \n",
    "# Reorder and rename columns to match OpenTargets viz\n",
    "df = df.reindex(columns=['overall','genetic_association','somatic_mutation','known_drug','affected_pathway','rna_expression','literature','animal_model'])\n",
    "df.columns = ['Association score', 'Genetic associations', 'Somatic mutations', 'Drugs', 'Affected pathways', 'RNA expression', 'Text mining', 'Animal models']"
   ]
  },
  {
   "cell_type": "markdown",
   "metadata": {},
   "source": [
    "### Now we have just the data we're interested in, lets see which of our targets have associations in OpenTargets and which don't"
   ]
  },
  {
   "cell_type": "code",
   "execution_count": null,
   "metadata": {
    "collapsed": false
   },
   "outputs": [],
   "source": [
    "print \"Targets that have an association to \" + disease + \":\"\n",
    "print df.index.tolist()\n",
    "print\n",
    "print \"Targets that had no recorded association in the top \" + str(maxresults) + \" results returned for disease \" + disease + \":\"\n",
    "print list(set(mytargets)-set(df.index))"
   ]
  },
  {
   "cell_type": "markdown",
   "metadata": {},
   "source": [
    "### Lets print the list of matching targets and their scores"
   ]
  },
  {
   "cell_type": "code",
   "execution_count": null,
   "metadata": {
    "collapsed": false
   },
   "outputs": [],
   "source": [
    "print df"
   ]
  },
  {
   "cell_type": "markdown",
   "metadata": {},
   "source": [
    "### Plot this DataFrame as a simple heatmap using the Seaborn vizualization library"
   ]
  },
  {
   "cell_type": "code",
   "execution_count": null,
   "metadata": {
    "collapsed": false
   },
   "outputs": [],
   "source": [
    "%matplotlib inline\n",
    "sns.set()\n",
    "ax = sns.heatmap(df, cmap=\"Blues\", annot=True, linewidths=2)\n",
    "sns.plt.show()"
   ]
  },
  {
   "cell_type": "code",
   "execution_count": null,
   "metadata": {
    "collapsed": true
   },
   "outputs": [],
   "source": []
  }
 ],
 "metadata": {
  "celltoolbar": "Raw Cell Format",
  "kernelspec": {
   "display_name": "Python 2",
   "language": "python",
   "name": "python2"
  },
  "language_info": {
   "codemirror_mode": {
    "name": "ipython",
    "version": 2
   },
   "file_extension": ".py",
   "mimetype": "text/x-python",
   "name": "python",
   "nbconvert_exporter": "python",
   "pygments_lexer": "ipython2",
   "version": "2.7.10"
  }
 },
 "nbformat": 4,
 "nbformat_minor": 0
}
