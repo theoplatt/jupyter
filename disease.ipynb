{
 "cells": [
  {
   "cell_type": "code",
   "execution_count": 1,
   "metadata": {
    "collapsed": true
   },
   "outputs": [],
   "source": [
    "import requests\n",
    "import json\n",
    "import matplotlib.pyplot as plt\n",
    "import pandas as pd"
   ]
  },
  {
   "cell_type": "markdown",
   "metadata": {},
   "source": [
    "Set our list of targets, the disease to run against and number of top associations to return to filter through"
   ]
  },
  {
   "cell_type": "code",
   "execution_count": 2,
   "metadata": {
    "collapsed": false
   },
   "outputs": [],
   "source": [
    "mytargets = ['DRD2', 'DRD4', 'PINK1', 'GRIN1', 'FRED']\n",
    "disease = \"EFO_0002508\"\n",
    "maxresults = 50  # max 10,000"
   ]
  },
  {
   "cell_type": "markdown",
   "metadata": {},
   "source": [
    "Make the API call with our disease to find the top results (ordered by overall score descending)"
   ]
  },
  {
   "cell_type": "code",
   "execution_count": 3,
   "metadata": {
    "collapsed": false
   },
   "outputs": [],
   "source": [
    "url = 'https://www.targetvalidation.org/api/latest/public/association/filter'\n",
    "headers = {\"Accept\": \"application/json\"}\n",
    "data = \"{\\\"disease\\\":[\\\"\" + disease + \"\\\"], \\\"size\\\":\" + str(maxresults) + \"}\"\n",
    "\n",
    "response = requests.post(url, headers=headers, data=data)\n",
    "output = response.json()\n",
    "\n",
    "#print out the json for debug\n",
    "#print json.dumps(output, indent=2)"
   ]
  },
  {
   "cell_type": "markdown",
   "metadata": {},
   "source": [
    "Run through all the targets and identify those we're interested in"
   ]
  },
  {
   "cell_type": "code",
   "execution_count": 4,
   "metadata": {
    "collapsed": false
   },
   "outputs": [],
   "source": [
    "datatypes = ['Association score', 'Genetic associations', 'Somatic mutations', 'Drugs', 'Affected pathways', 'RNA expression', 'Text mining', 'Animal models']\n",
    "\n",
    "\n",
    "df = pd.DataFrame()\n",
    "\n",
    "for target in output['data']:\n",
    "    if target['target']['gene_info']['symbol'] in mytargets:\n",
    "\n",
    "        s = pd.Series([\n",
    "                target['association_score']['overall'],\n",
    "                target['association_score']['datatypes']['genetic_association'],\n",
    "                target['association_score']['datatypes']['somatic_mutation'],\n",
    "                target['association_score']['datatypes']['known_drug'],\n",
    "                target['association_score']['datatypes']['affected_pathway'],\n",
    "                target['association_score']['datatypes']['rna_expression'],\n",
    "                target['association_score']['datatypes']['literature'],\n",
    "                target['association_score']['datatypes']['animal_model']\n",
    "            ], index=datatypes, name=str(target['target']['gene_info']['symbol']))\n",
    "                \n",
    "        df = df.append(s, ignore_index=False)\n",
    "\n",
    "# Reorder columns to the datatypes list to match OpenTargets\n",
    "df = df.reindex(columns=datatypes)\n"
   ]
  },
  {
   "cell_type": "code",
   "execution_count": 5,
   "metadata": {
    "collapsed": false
   },
   "outputs": [
    {
     "name": "stdout",
     "output_type": "stream",
     "text": [
      "Targets that have an association to EFO_0002508:\n",
      "Index([u'DRD2', u'DRD4', u'PINK1', u'GRIN1'], dtype='object')\n",
      "\n",
      "Targets that had no recorded association in the top 50 results returned for disease EFO_0002508:\n",
      "['FRED']\n"
     ]
    }
   ],
   "source": [
    "print \"Targets that have an association to \" + disease + \":\"\n",
    "print df.index\n",
    "print\n",
    "print \"Targets that had no recorded association in the top \" + str(maxresults) + \" results returned for disease \" + disease + \":\"\n",
    "print list(set(mytargets)-set(df.index))"
   ]
  },
  {
   "cell_type": "code",
   "execution_count": 6,
   "metadata": {
    "collapsed": false
   },
   "outputs": [
    {
     "data": {
      "image/png": "[encoded data removed]",
      "text/plain": [
       "<matplotlib.figure.Figure at 0x10bcaf050>"
      ]
     },
     "metadata": {},
     "output_type": "display_data"
    }
   ],
   "source": [
    "%matplotlib inline\n",
    "import seaborn as sns; sns.set()\n",
    "ax = sns.heatmap(df, cmap=plt.cm.Blues, annot=True, linewidths=2)\n",
    "sns.plt.show()"
   ]
  },
  {
   "cell_type": "code",
   "execution_count": null,
   "metadata": {
    "collapsed": true
   },
   "outputs": [],
   "source": []
  }
 ],
 "metadata": {
  "celltoolbar": "Raw Cell Format",
  "kernelspec": {
   "display_name": "Python 2",
   "language": "python",
   "name": "python2"
  },
  "language_info": {
   "codemirror_mode": {
    "name": "ipython",
    "version": 2
   },
   "file_extension": ".py",
   "mimetype": "text/x-python",
   "name": "python",
   "nbconvert_exporter": "python",
   "pygments_lexer": "ipython2",
   "version": "2.7.10"
  }
 },
 "nbformat": 4,
 "nbformat_minor": 0
}
