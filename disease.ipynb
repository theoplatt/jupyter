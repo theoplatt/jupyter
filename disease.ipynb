{
 "cells": [
  {
   "cell_type": "code",
   "execution_count": 40,
   "metadata": {
    "collapsed": true
   },
   "outputs": [],
   "source": [
    "import requests\n",
    "import json\n",
    "from tabulate import tabulate\n",
    "import matplotlib.pyplot as plt\n",
    "import numpy as np\n"
   ]
  },
  {
   "cell_type": "markdown",
   "metadata": {},
   "source": [
    "Our list of targets"
   ]
  },
  {
   "cell_type": "code",
   "execution_count": 41,
   "metadata": {
    "collapsed": false
   },
   "outputs": [],
   "source": [
    "mytargets = ['DRD2', 'DRD4', 'PINK1', 'GRIN1']"
   ]
  },
  {
   "cell_type": "markdown",
   "metadata": {},
   "source": [
    "Make the API call with our list of targets to find the associations. Set facets to true."
   ]
  },
  {
   "cell_type": "code",
   "execution_count": 42,
   "metadata": {
    "collapsed": false
   },
   "outputs": [],
   "source": [
    "url = 'https://www.targetvalidation.org/api/latest/public/association/filter'\n",
    "headers = {\"Accept\": \"application/json\"}\n",
    "# There may be an easier way of building these parameters...\n",
    "data = \"{\\\"disease\\\":[\\\"EFO_0002508\\\"], \\\"size\\\":50}\"\n",
    "\n",
    "response = requests.post(url, headers=headers, data=data)\n",
    "output = response.json()"
   ]
  },
  {
   "cell_type": "markdown",
   "metadata": {},
   "source": [
    "Print out all the json returned just for reference"
   ]
  },
  {
   "cell_type": "code",
   "execution_count": 43,
   "metadata": {
    "collapsed": false
   },
   "outputs": [],
   "source": [
    "#print json.dumps(output, indent=2)"
   ]
  },
  {
   "cell_type": "markdown",
   "metadata": {},
   "source": [
    "Run through all the targets and find the one's we're interested in"
   ]
  },
  {
   "cell_type": "code",
   "execution_count": 44,
   "metadata": {
    "collapsed": false
   },
   "outputs": [],
   "source": [
    "targets = []\n",
    "symbols = []\n",
    "associations = []\n",
    "\n",
    "for target in output['data']:\n",
    "    if target['target']['gene_info']['symbol'] in mytargets:\n",
    "        symbols.append(target['target']['gene_info']['symbol'])\n",
    "        \n",
    "        scores = []\n",
    "        scores.append(target['association_score']['overall'])\n",
    "        scores.append(target['association_score']['datatypes']['genetic_association'])\n",
    "        scores.append(target['association_score']['datatypes']['somatic_mutation'])\n",
    "        scores.append(target['association_score']['datatypes']['known_drug'])\n",
    "        scores.append(target['association_score']['datatypes']['affected_pathway'])\n",
    "        scores.append(target['association_score']['datatypes']['rna_expression'])\n",
    "        scores.append(target['association_score']['datatypes']['literature'])\n",
    "        scores.append(target['association_score']['datatypes']['animal_model'])\n",
    "\n",
    "        associations.append(scores)\n",
    "        \n",
    "        \n",
    "#print symbols\n",
    "#print associations"
   ]
  },
  {
   "cell_type": "code",
   "execution_count": 45,
   "metadata": {
    "collapsed": false
   },
   "outputs": [],
   "source": [
    "column_labels = symbols\n",
    "row_labels = ['Association score', 'Genetic associations', 'Somatic mutations', 'Drugs', 'Affected pathways', 'RNA expression', 'Text mining', 'Animal models']\n",
    "data = np.array(associations)\n",
    "fig, ax = plt.subplots()\n",
    "heatmap = ax.pcolor(data, cmap=plt.cm.Blues)\n",
    "fig.subplots_adjust(top=0.7)\n",
    "\n",
    "# put the major ticks at the middle of each cell\n",
    "ax.set_xticks(np.arange(data.shape[1])+1, minor=False)\n",
    "ax.set_yticks(np.arange(data.shape[0])+0.5, minor=False)\n",
    "\n",
    "# want a more natural, table-like display\n",
    "ax.invert_yaxis()\n",
    "ax.xaxis.tick_top()\n",
    "\n",
    "ax.set_xticklabels(row_labels, minor=False, rotation=60)\n",
    "ax.set_yticklabels(column_labels, minor=False)\n",
    "plt.show()\n",
    "\n"
   ]
  },
  {
   "cell_type": "code",
   "execution_count": null,
   "metadata": {
    "collapsed": true
   },
   "outputs": [],
   "source": []
  }
 ],
 "metadata": {
  "celltoolbar": "Raw Cell Format",
  "kernelspec": {
   "display_name": "Python 2",
   "language": "python",
   "name": "python2"
  },
  "language_info": {
   "codemirror_mode": {
    "name": "ipython",
    "version": 2
   },
   "file_extension": ".py",
   "mimetype": "text/x-python",
   "name": "python",
   "nbconvert_exporter": "python",
   "pygments_lexer": "ipython2",
   "version": "2.7.10"
  }
 },
 "nbformat": 4,
 "nbformat_minor": 0
}
