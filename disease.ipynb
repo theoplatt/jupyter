{
 "cells": [
  {
   "cell_type": "code",
   "execution_count": 110,
   "metadata": {
    "collapsed": true
   },
   "outputs": [],
   "source": [
    "import requests\n",
    "import json\n",
    "from tabulate import tabulate\n",
    "import matplotlib.pyplot as plt\n",
    "import numpy as np\n",
    "import pandas as pd"
   ]
  },
  {
   "cell_type": "markdown",
   "metadata": {},
   "source": [
    "Set our list of targets, the disease to run against and number of top associations to return to filter through"
   ]
  },
  {
   "cell_type": "code",
   "execution_count": 111,
   "metadata": {
    "collapsed": false
   },
   "outputs": [],
   "source": [
    "mytargets = ['DRD2', 'DRD4', 'PINK1', 'GRIN1', 'FRED']\n",
    "disease = \"EFO_0002508\"\n",
    "maxresults = 50  # max 10,000"
   ]
  },
  {
   "cell_type": "markdown",
   "metadata": {},
   "source": [
    "Make the API call with our disease to find the top results (ordered by overall score descending)"
   ]
  },
  {
   "cell_type": "code",
   "execution_count": 112,
   "metadata": {
    "collapsed": false
   },
   "outputs": [],
   "source": [
    "url = 'https://www.targetvalidation.org/api/latest/public/association/filter'\n",
    "headers = {\"Accept\": \"application/json\"}\n",
    "data = \"{\\\"disease\\\":[\\\"\" + disease + \"\\\"], \\\"size\\\":\" + str(maxresults) + \"}\"\n",
    "\n",
    "response = requests.post(url, headers=headers, data=data)\n",
    "output = response.json()\n",
    "\n",
    "#print out the json for debug\n",
    "#print json.dumps(output, indent=2)\n",
    "print json.dumps(output['data'], indent=2)"
   ]
  },
  {
   "cell_type": "markdown",
   "metadata": {},
   "source": [
    "Run through all the targets and identify those we're interested in"
   ]
  },
  {
   "cell_type": "code",
   "execution_count": 119,
   "metadata": {
    "collapsed": false
   },
   "outputs": [],
   "source": [
    "symbols = []\n",
    "associations = []\n",
    "\n",
    "for target in output['data']:\n",
    "    if target['target']['gene_info']['symbol'] in mytargets:\n",
    "        symbols.append(str(target['target']['gene_info']['symbol']))\n",
    "        \n",
    "        scores = []\n",
    "        scores.append(target['association_score']['overall'])\n",
    "        scores.append(target['association_score']['datatypes']['genetic_association'])\n",
    "        scores.append(target['association_score']['datatypes']['somatic_mutation'])\n",
    "        scores.append(target['association_score']['datatypes']['known_drug'])\n",
    "        scores.append(target['association_score']['datatypes']['affected_pathway'])\n",
    "        scores.append(target['association_score']['datatypes']['rna_expression'])\n",
    "        scores.append(target['association_score']['datatypes']['literature'])\n",
    "        scores.append(target['association_score']['datatypes']['animal_model'])\n",
    "\n",
    "        associations.append(scores)\n",
    "       \n",
    "datatypes = ['Association score', 'Genetic associations', 'Somatic mutations', 'Drugs', 'Affected pathways', 'RNA expression', 'Text mining', 'Animal models']\n",
    "mydata = pd.DataFrame(associations, index=symbols, columns=datatypes)        \n"
   ]
  },
  {
   "cell_type": "code",
   "execution_count": 120,
   "metadata": {
    "collapsed": false
   },
   "outputs": [
    {
     "name": "stdout",
     "output_type": "stream",
     "text": [
      "Targets that have an association to EFO_0002508:\n",
      "['DRD2', 'DRD4', 'PINK1', 'GRIN1']\n",
      "\n",
      "Targets that had no recorded association in the top 50 results returned for disease EFO_0002508:\n",
      "['FRED']\n"
     ]
    }
   ],
   "source": [
    "print \"Targets that have an association to \" + disease + \":\"\n",
    "print symbols\n",
    "print\n",
    "print \"Targets that had no recorded association in the top \" + str(maxresults) + \" results returned for disease \" + disease + \":\"\n",
    "print list(set(mytargets)-set(symbols))"
   ]
  },
  {
   "cell_type": "code",
   "execution_count": 121,
   "metadata": {
    "collapsed": false
   },
   "outputs": [
    {
     "data": {
      "image/png": "[encoded data removed]",
      "text/plain": [
       "<matplotlib.figure.Figure at 0x1184c71d0>"
      ]
     },
     "metadata": {},
     "output_type": "display_data"
    }
   ],
   "source": [
    "# Draw the heatmap\n",
    "%matplotlib inline\n",
    "data = np.array(associations)\n",
    "fig, ax = plt.subplots()\n",
    "heatmap = ax.pcolor(associations, cmap=plt.cm.Blues, edgecolor='white', linewidth=2)\n",
    "\n",
    "#\n",
    "# Formatting:\n",
    "#\n",
    "\n",
    "# Put some space at the top for the labels\n",
    "fig.subplots_adjust(top=0.7)\n",
    "ax.set_frame_on(False)\n",
    "\n",
    "# column labels\n",
    "datatypes = ['Association score', 'Genetic associations', 'Somatic mutations', 'Drugs', 'Affected pathways', 'RNA expression', 'Text mining', 'Animal models']\n",
    "\n",
    "# put the major ticks at the middle of each cell\n",
    "ax.set_xticks(np.arange(len(datatypes))+0.5, minor=False)\n",
    "ax.set_yticks(np.arange(len(symbols))+0.5, minor=False)\n",
    "\n",
    "# want a more natural, table-like display\n",
    "ax.invert_yaxis()\n",
    "ax.xaxis.tick_top()\n",
    "\n",
    "ax.set_xticklabels(datatypes, minor=False, rotation='vertical')\n",
    "ax.set_yticklabels(symbols, minor=False)\n",
    "\n",
    "# remove the tick marks\n",
    "for t in ax.xaxis.get_major_ticks():\n",
    "    t.tick1On = False\n",
    "    t.tick2On = False\n",
    "for t in ax.yaxis.get_major_ticks():\n",
    "    t.tick1On = False\n",
    "    t.tick2On = False\n",
    "    \n",
    "#\n",
    "# Show the heatmap\n",
    "#\n",
    "plt.show()\n",
    "\n"
   ]
  },
  {
   "cell_type": "code",
   "execution_count": 122,
   "metadata": {
    "collapsed": false
   },
   "outputs": [
    {
     "data": {
      "image/png": "[encoded data removed]",
      "text/plain": [
       "<matplotlib.figure.Figure at 0x1184db950>"
      ]
     },
     "metadata": {},
     "output_type": "display_data"
    }
   ],
   "source": [
    "%matplotlib inline\n",
    "import seaborn as sns; sns.set()\n",
    "ax = sns.heatmap(mydata, cmap=plt.cm.Blues, annot=True, linewidths=2)\n",
    "sns.plt.show()"
   ]
  },
  {
   "cell_type": "code",
   "execution_count": null,
   "metadata": {
    "collapsed": true
   },
   "outputs": [],
   "source": []
  }
 ],
 "metadata": {
  "celltoolbar": "Raw Cell Format",
  "kernelspec": {
   "display_name": "Python 2",
   "language": "python",
   "name": "python2"
  },
  "language_info": {
   "codemirror_mode": {
    "name": "ipython",
    "version": 2
   },
   "file_extension": ".py",
   "mimetype": "text/x-python",
   "name": "python",
   "nbconvert_exporter": "python",
   "pygments_lexer": "ipython2",
   "version": "2.7.10"
  }
 },
 "nbformat": 4,
 "nbformat_minor": 0
}
