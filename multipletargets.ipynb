{
 "cells": [
  {
   "cell_type": "code",
   "execution_count": 18,
   "metadata": {
    "collapsed": true
   },
   "outputs": [],
   "source": [
    "import requests\n",
    "import json\n",
    "from tabulate import tabulate"
   ]
  },
  {
   "cell_type": "markdown",
   "metadata": {},
   "source": [
    "Make the API call with our list of targets to find the associations. Set facets to true."
   ]
  },
  {
   "cell_type": "code",
   "execution_count": 19,
   "metadata": {
    "collapsed": false
   },
   "outputs": [],
   "source": [
    "url = 'https://www.targetvalidation.org/api/latest/public/association/filter'\n",
    "headers = {\"Accept\": \"application/json\"}\n",
    "params = '{\"target\":[\"ENSG00000069696\", \"ENSG00000144285\"], \"facets\":true}'\n",
    "\n",
    "response = requests.post(url, headers=headers, data=params)\n",
    "output = response.json()"
   ]
  },
  {
   "cell_type": "markdown",
   "metadata": {},
   "source": [
    "Print out all the json returned just for reference"
   ]
  },
  {
   "cell_type": "code",
   "execution_count": 20,
   "metadata": {
    "collapsed": false
   },
   "outputs": [],
   "source": [
    "#print json.dumps(output, indent=2)"
   ]
  },
  {
   "cell_type": "markdown",
   "metadata": {},
   "source": [
    "The therapeutic area facets look interesting - lets iterate through these and display"
   ]
  },
  {
   "cell_type": "code",
   "execution_count": 21,
   "metadata": {
    "collapsed": true
   },
   "outputs": [],
   "source": [
    "therapeuticareas = []\n",
    "\n",
    "for bucket in output['facets']['therapeutic_area']['buckets']:\n",
    "    therapeuticareas.append({\n",
    "            'target_count' : bucket['unique_target_count']['value'], \n",
    "            'disease_count' : bucket['unique_disease_count']['value'],\n",
    "            'therapeutic_area' : bucket['label'],\n",
    "            'key' : bucket['key']\n",
    "        })"
   ]
  },
  {
   "cell_type": "markdown",
   "metadata": {},
   "source": [
    "Sort by target count and then disease count"
   ]
  },
  {
   "cell_type": "code",
   "execution_count": 22,
   "metadata": {
    "collapsed": true
   },
   "outputs": [],
   "source": [
    "therapeuticareas = sorted(therapeuticareas, key=lambda k: (k['target_count'],k['disease_count']), reverse=True) "
   ]
  },
  {
   "cell_type": "markdown",
   "metadata": {},
   "source": [
    "Using the python [tabulate](https://pypi.python.org/pypi/tabulate) library to render a pretty table of our extracted therapeutic areas.\n",
    "Note: You may need to run `pip install tabulate` in your python environment"
   ]
  },
  {
   "cell_type": "code",
   "execution_count": 23,
   "metadata": {
    "collapsed": false
   },
   "outputs": [
    {
     "name": "stdout",
     "output_type": "stream",
     "text": [
      "+------------------------------+-----------------+-------------+----------------+\n",
      "| therapeutic_area             |   disease_count | key         |   target_count |\n",
      "+==============================+=================+=============+================+\n",
      "| genetic disorder             |             285 | efo_0000508 |              2 |\n",
      "+------------------------------+-----------------+-------------+----------------+\n",
      "| phenotype                    |             115 | efo_0000651 |              2 |\n",
      "+------------------------------+-----------------+-------------+----------------+\n",
      "| nervous system disease       |              86 | efo_0000618 |              2 |\n",
      "+------------------------------+-----------------+-------------+----------------+\n",
      "| eye disease                  |              80 | efo_0003966 |              2 |\n",
      "+------------------------------+-----------------+-------------+----------------+\n",
      "| neoplasm                     |              49 | efo_0000616 |              2 |\n",
      "+------------------------------+-----------------+-------------+----------------+\n",
      "| metabolic disease            |              38 | efo_0000589 |              2 |\n",
      "+------------------------------+-----------------+-------------+----------------+\n",
      "| cardiovascular disease       |              38 | efo_0000319 |              2 |\n",
      "+------------------------------+-----------------+-------------+----------------+\n",
      "| endocrine system disease     |              26 | efo_0001379 |              2 |\n",
      "+------------------------------+-----------------+-------------+----------------+\n",
      "| reproductive system disease  |              25 | efo_0000512 |              2 |\n",
      "+------------------------------+-----------------+-------------+----------------+\n",
      "| skeletal system disease      |              21 | efo_0002461 |              2 |\n",
      "+------------------------------+-----------------+-------------+----------------+\n",
      "| muscular disease             |              19 | efo_0002970 |              2 |\n",
      "+------------------------------+-----------------+-------------+----------------+\n",
      "| immune system disease        |              15 | efo_0000540 |              2 |\n",
      "+------------------------------+-----------------+-------------+----------------+\n",
      "| respiratory system disease   |              10 | efo_0000684 |              2 |\n",
      "+------------------------------+-----------------+-------------+----------------+\n",
      "| infectious disease           |               8 | efo_0005741 |              2 |\n",
      "+------------------------------+-----------------+-------------+----------------+\n",
      "| hematological system disease |               6 | efo_0005803 |              2 |\n",
      "+------------------------------+-----------------+-------------+----------------+\n",
      "| skin disease                 |              24 | efo_0000701 |              1 |\n",
      "+------------------------------+-----------------+-------------+----------------+\n",
      "| digestive system disease     |              11 | efo_0000405 |              1 |\n",
      "+------------------------------+-----------------+-------------+----------------+\n",
      "| other                        |               2 | other       |              1 |\n",
      "+------------------------------+-----------------+-------------+----------------+\n"
     ]
    }
   ],
   "source": [
    "print tabulate(therapeuticareas, headers=\"keys\", tablefmt=\"grid\")"
   ]
  },
  {
   "cell_type": "code",
   "execution_count": null,
   "metadata": {
    "collapsed": true
   },
   "outputs": [],
   "source": []
  }
 ],
 "metadata": {
  "celltoolbar": "Raw Cell Format",
  "kernelspec": {
   "display_name": "Python 2",
   "language": "python",
   "name": "python2"
  },
  "language_info": {
   "codemirror_mode": {
    "name": "ipython",
    "version": 2
   },
   "file_extension": ".py",
   "mimetype": "text/x-python",
   "name": "python",
   "nbconvert_exporter": "python",
   "pygments_lexer": "ipython2",
   "version": "2.7.10"
  }
 },
 "nbformat": 4,
 "nbformat_minor": 0
}
